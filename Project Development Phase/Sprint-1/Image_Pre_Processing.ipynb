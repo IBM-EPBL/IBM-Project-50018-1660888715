{
  "cells": [
    {
      "cell_type": "markdown",
      "id": "L5Lgwm2Mhopx",
      "metadata": {
        "id": "L5Lgwm2Mhopx"
      },
      "source": [
        "# Data Collection\n",
        "> ## Download the Dataset"
      ]
    },
    {
      "cell_type": "markdown",
      "id": "72sPa5RTiD8c",
      "metadata": {
        "id": "72sPa5RTiD8c"
      },
      "source": [
        "# Image Pre-Processing"
      ]
    },
    {
      "cell_type": "markdown",
      "id": "i0BiCMGviKvE",
      "metadata": {
        "id": "i0BiCMGviKvE"
      },
      "source": [
        "> ## Importing the Necessary Libraries"
      ]
    },
    {
      "cell_type": "code",
      "execution_count": 1,
      "id": "2063ca44",
      "metadata": {
        "id": "2063ca44"
      },
      "outputs": [],
      "source": [
        "import numpy as np\n",
        "import pandas as pd\n",
        "import matplotlib.pyplot as plt\n",
        "import seaborn as sns\n",
        "import zipfile as zf\n",
        "import os\n",
        "import random\n",
        "import cv2\n",
        "import pickle\n",
        "from imutils import build_montages\n",
        "from imutils import paths\n",
        "from sklearn.metrics import classification_report,confusion_matrix\n",
        "from sklearn import metrics\n",
        "from sklearn.preprocessing import LabelEncoder,LabelBinarizer\n",
        "from sklearn.model_selection import train_test_split\n",
        "from sklearn.ensemble import RandomForestClassifier,GradientBoostingClassifier,ExtraTreesClassifier\n",
        "from skimage import feature\n",
        "from google.colab.patches import cv2_imshow"
      ]
    },
    {
      "cell_type": "code",
      "execution_count": 2,
      "id": "82ec3d81",
      "metadata": {
        "colab": {
          "base_uri": "https://localhost:8080/",
          "height": 36
        },
        "id": "82ec3d81",
        "outputId": "b4c22289-73e2-4bbd-e666-7372c7e8fad3"
      },
      "outputs": [
        {
          "output_type": "execute_result",
          "data": {
            "text/plain": [
              "'/content'"
            ],
            "application/vnd.google.colaboratory.intrinsic+json": {
              "type": "string"
            }
          },
          "metadata": {},
          "execution_count": 2
        }
      ],
      "source": [
        "sns.set()\n",
        "os.getcwd()"
      ]
    },
    {
      "cell_type": "markdown",
      "id": "W0fFN1Mfiq3g",
      "metadata": {
        "id": "W0fFN1Mfiq3g"
      },
      "source": [
        "> ## Loading the training and testing dataset"
      ]
    },
    {
      "cell_type": "code",
      "execution_count": 3,
      "id": "259b7105",
      "metadata": {
        "id": "259b7105"
      },
      "outputs": [],
      "source": [
        "handle_spiral = zf.ZipFile(r'dataset1.zip')\n",
        "handle_spiral.extractall('dataset1')\n",
        "handle_spiral.close()\n",
        "\n",
        "handle_wave = zf.ZipFile(r'dataset1.zip')\n",
        "handle_wave.extractall('dataset1')\n",
        "handle_wave.close()"
      ]
    },
    {
      "cell_type": "code",
      "execution_count": 4,
      "id": "cb9bc68a",
      "metadata": {
        "id": "cb9bc68a"
      },
      "outputs": [],
      "source": [
        "spiral_train_healthy = os.listdir('dataset1/dataset/spiral/training/healthy/')\n",
        "spiral_train_park = os.listdir('dataset1/dataset/spiral/training/parkinson/')\n",
        "\n",
        "fp_spiral_train_healthy = 'dataset1/dataset/spiral/training/healthy/'\n",
        "fp_spiral_train_park = 'dataset1/dataset/spiral/training/parkinson/'\n",
        "\n",
        "spiral_test_healthy = os.listdir('dataset1/dataset/spiral/testing/healthy/')\n",
        "spiral_test_park = os.listdir('dataset1/dataset/spiral/testing/parkinson/')\n",
        "\n",
        "fp_spiral_test_healthy = 'dataset1/dataset/spiral/testing/healthy/'\n",
        "fp_spiral_test_park = 'dataset1/dataset/spiral/testing/parkinson/'\n",
        "\n",
        "\n"
      ]
    },
    {
      "cell_type": "code",
      "source": [
        "wave_train_healthy = os.listdir('dataset1/dataset/wave/training/healthy/')\n",
        "wave_train_park = os.listdir('dataset1/dataset/wave/training/parkinson/')\n",
        "\n",
        "fp_wave_train_healthy = 'dataset1/dataset/wave/training/healthy/'\n",
        "fp_wave_train_park = 'dataset1/dataset/wave/training/parkinson/'\n",
        "\n",
        "wave_test_healthy = os.listdir('dataset1/dataset/wave/testing/healthy/')\n",
        "wave_test_park = os.listdir('dataset1/dataset/wave/testing/parkinson/')\n",
        "\n",
        "fp_wave_test_healthy = 'dataset1/dataset/wave/testing/healthy/'\n",
        "fp_wave_test_park = 'dataset1/dataset/wave/testing/parkinson/'\n"
      ],
      "metadata": {
        "id": "rf01j37YvLm5"
      },
      "id": "rf01j37YvLm5",
      "execution_count": 5,
      "outputs": []
    },
    {
      "cell_type": "markdown",
      "id": "uIpTmysNilCl",
      "metadata": {
        "id": "uIpTmysNilCl"
      },
      "source": [
        "> ## Quantifying Images"
      ]
    },
    {
      "cell_type": "code",
      "execution_count": 6,
      "id": "c9642ca7",
      "metadata": {
        "id": "c9642ca7"
      },
      "outputs": [],
      "source": [
        "def quantify_image(image):\n",
        "  features = feature.hog(image,orientations=9,\n",
        "                pixels_per_cell=(10,10),cells_per_block=(2,2),transform_sqrt=True,block_norm=\"L1\")\n",
        "\n",
        "  return features"
      ]
    },
    {
      "cell_type": "code",
      "source": [
        "def quantify_image(image_wave):\n",
        "  features_wave = feature.hog(image_wave,orientations=9,\n",
        "                pixels_per_cell=(10,10),cells_per_block=(2,2),transform_sqrt=True,block_norm=\"L1\")\n",
        "\n",
        "  return features_wave"
      ],
      "metadata": {
        "id": "UN85iDkE3Ppt"
      },
      "id": "UN85iDkE3Ppt",
      "execution_count": 7,
      "outputs": []
    },
    {
      "cell_type": "markdown",
      "id": "js2IiuCDjJug",
      "metadata": {
        "id": "js2IiuCDjJug"
      },
      "source": [
        "> ## Splitting up of training and testing data"
      ]
    },
    {
      "cell_type": "code",
      "execution_count": 8,
      "id": "fa02f3bb",
      "metadata": {
        "id": "fa02f3bb"
      },
      "outputs": [],
      "source": [
        "trainX = []\n",
        "testX = []\n",
        "outputs = []\n",
        "trainY = []\n",
        "testY = []\n",
        "\n",
        "for i in spiral_train_healthy:\n",
        "  image = cv2.imread(fp_spiral_train_healthy+i)\n",
        "  image = cv2.cvtColor(image , cv2.COLOR_BGR2GRAY)\n",
        "  image = cv2.resize(image , (200,200))\n",
        "  image =cv2.threshold(image, 0, 255,cv2.THRESH_BINARY_INV | cv2.THRESH_OTSU)[1]\n",
        "  features = quantify_image(image)\n",
        "  trainX.append(features)\n",
        "  trainY.append('healthy')\n",
        "\n",
        "for i in spiral_train_park:\n",
        "  image = cv2.imread(fp_spiral_train_park+i)\n",
        "  image = cv2.cvtColor(image , cv2.COLOR_BGR2GRAY)\n",
        "  image = cv2.resize(image , (200,200))\n",
        "  image = cv2.threshold(image ,0,255,cv2.THRESH_BINARY_INV | cv2.THRESH_OTSU)[1]\n",
        "  features = quantify_image(image)\n",
        "  trainX.append(features)\n",
        "  trainY.append('parkinson')\n",
        "\n",
        "for i in spiral_test_healthy:\n",
        "  image = cv2.imread(fp_spiral_test_healthy+i)\n",
        "  outputs.append(image)\n",
        "  image = cv2.cvtColor(image , cv2.COLOR_BGR2GRAY)\n",
        "  image = cv2.resize(image , (200,200))\n",
        "  image = cv2.threshold(image ,0,255,cv2.THRESH_BINARY_INV | cv2.THRESH_OTSU)[1]\n",
        "  features = quantify_image(image)\n",
        "  testX.append(features)\n",
        "  testY.append('healthy')\n",
        "\n",
        "for i in spiral_test_park:\n",
        "  image = cv2.imread(fp_spiral_test_park+i)\n",
        "  outputs.append(image)\n",
        "  image = cv2.cvtColor(image , cv2.COLOR_BGR2GRAY)\n",
        "  image = cv2.resize(image , (200,200))\n",
        "  image = cv2.threshold(image ,0,255,cv2.THRESH_BINARY_INV | cv2.THRESH_OTSU)[1]\n",
        "  features = quantify_image(image)\n",
        "  testX.append(features)\n",
        "  testY.append('parkinson')\n",
        "    "
      ]
    },
    {
      "cell_type": "code",
      "source": [
        "trainX_wave = []\n",
        "testX_wave = []\n",
        "outputs_wave = []\n",
        "trainY_wave = []\n",
        "testY_wave = []\n",
        "\n",
        "for i in wave_train_healthy:\n",
        "  image_wave = cv2.imread(fp_wave_train_healthy+i)\n",
        "  image_wave = cv2.cvtColor(image_wave , cv2.COLOR_BGR2GRAY)\n",
        "  image_wave = cv2.resize(image_wave , (200,200))\n",
        "  image_wave =cv2.threshold(image_wave, 0, 255,cv2.THRESH_BINARY_INV | cv2.THRESH_OTSU)[1]\n",
        "  features_wave = quantify_image(image_wave)\n",
        "  trainX_wave.append(features_wave)\n",
        "  trainY_wave.append('healthy')\n",
        "\n",
        "for i in wave_train_park:\n",
        "  image_wave = cv2.imread(fp_wave_train_park+i)\n",
        "  image_wave = cv2.cvtColor(image_wave , cv2.COLOR_BGR2GRAY)\n",
        "  image_wave = cv2.resize(image_wave , (200,200))\n",
        "  image_wave = cv2.threshold(image_wave ,0,255,cv2.THRESH_BINARY_INV | cv2.THRESH_OTSU)[1]\n",
        "  features_wave = quantify_image(image_wave)\n",
        "  trainX_wave.append(features_wave)\n",
        "  trainY_wave.append('parkinson')\n",
        "\n",
        "for i in wave_test_healthy:\n",
        "  image_wave = cv2.imread(fp_wave_test_healthy+i)\n",
        "  outputs_wave.append(image_wave)\n",
        "  image_wave = cv2.cvtColor(image_wave , cv2.COLOR_BGR2GRAY)\n",
        "  image_wave = cv2.resize(image_wave , (200,200))\n",
        "  image_wave = cv2.threshold(image_wave ,0,255,cv2.THRESH_BINARY_INV | cv2.THRESH_OTSU)[1]\n",
        "  features_wave = quantify_image(image_wave)\n",
        "  testX_wave.append(features_wave)\n",
        "  testY_wave.append('healthy')\n",
        "\n",
        "for i in wave_test_park:\n",
        "  image_wave = cv2.imread(fp_wave_test_park+i)\n",
        "  outputs_wave.append(image_wave)\n",
        "  image_wave = cv2.cvtColor(image_wave , cv2.COLOR_BGR2GRAY)\n",
        "  image_wave = cv2.resize(image_wave, (200,200))\n",
        "  image_wave = cv2.threshold(image_wave ,0,255,cv2.THRESH_BINARY_INV | cv2.THRESH_OTSU)[1]\n",
        "  features_wave = quantify_image(image_wave)\n",
        "  testX_wave.append(features_wave)\n",
        "  testY_wave.append('parkinson')"
      ],
      "metadata": {
        "id": "S0WSdWUSv9IB"
      },
      "id": "S0WSdWUSv9IB",
      "execution_count": 9,
      "outputs": []
    },
    {
      "cell_type": "code",
      "execution_count": 10,
      "id": "7080634b",
      "metadata": {
        "id": "7080634b"
      },
      "outputs": [],
      "source": [
        "trainX = np.array(trainX)\n",
        "testX = np.array(testX)\n",
        "trainY = np.array(trainY)\n",
        "testY = np.array(testY)"
      ]
    },
    {
      "cell_type": "code",
      "source": [
        "trainX_wave = np.array(trainX_wave)\n",
        "testX_wave = np.array(testX_wave)\n",
        "trainY_wave = np.array(trainY_wave)\n",
        "testY_wave = np.array(testY_wave)"
      ],
      "metadata": {
        "id": "y4yHNryQx5cU"
      },
      "id": "y4yHNryQx5cU",
      "execution_count": 11,
      "outputs": []
    },
    {
      "cell_type": "code",
      "source": [
        "trainX"
      ],
      "metadata": {
        "colab": {
          "base_uri": "https://localhost:8080/"
        },
        "id": "fWaLyAJ7yO1S",
        "outputId": "741031c4-6b1a-4296-8b09-ab0446862f89"
      },
      "id": "fWaLyAJ7yO1S",
      "execution_count": 12,
      "outputs": [
        {
          "output_type": "execute_result",
          "data": {
            "text/plain": [
              "array([[0., 0., 0., ..., 0., 0., 0.],\n",
              "       [0., 0., 0., ..., 0., 0., 0.],\n",
              "       [0., 0., 0., ..., 0., 0., 0.],\n",
              "       ...,\n",
              "       [0., 0., 0., ..., 0., 0., 0.],\n",
              "       [0., 0., 0., ..., 0., 0., 0.],\n",
              "       [0., 0., 0., ..., 0., 0., 0.]])"
            ]
          },
          "metadata": {},
          "execution_count": 12
        }
      ]
    },
    {
      "cell_type": "code",
      "source": [
        "trainX_wave"
      ],
      "metadata": {
        "colab": {
          "base_uri": "https://localhost:8080/"
        },
        "id": "2E2S7pf7ySfw",
        "outputId": "e02cc818-26fc-43cd-b3cd-294801025ca7"
      },
      "id": "2E2S7pf7ySfw",
      "execution_count": 13,
      "outputs": [
        {
          "output_type": "execute_result",
          "data": {
            "text/plain": [
              "array([[0.        , 0.        , 0.        , ..., 0.        , 0.        ,\n",
              "        0.        ],\n",
              "       [0.        , 0.        , 0.        , ..., 0.        , 0.        ,\n",
              "        0.        ],\n",
              "       [0.        , 0.        , 0.        , ..., 0.        , 0.        ,\n",
              "        0.        ],\n",
              "       ...,\n",
              "       [0.12675901, 0.        , 0.07381472, ..., 0.        , 0.        ,\n",
              "        0.        ],\n",
              "       [0.        , 0.        , 0.        , ..., 0.        , 0.        ,\n",
              "        0.        ],\n",
              "       [0.        , 0.        , 0.        , ..., 0.        , 0.        ,\n",
              "        0.        ]])"
            ]
          },
          "metadata": {},
          "execution_count": 13
        }
      ]
    },
    {
      "cell_type": "code",
      "execution_count": 14,
      "id": "954c5c58",
      "metadata": {
        "colab": {
          "base_uri": "https://localhost:8080/"
        },
        "id": "954c5c58",
        "outputId": "864cf429-b917-4988-b0ac-0526f70da5ca"
      },
      "outputs": [
        {
          "output_type": "execute_result",
          "data": {
            "text/plain": [
              "array(['healthy', 'healthy', 'healthy', 'healthy', 'healthy', 'healthy',\n",
              "       'healthy', 'healthy', 'healthy', 'healthy', 'healthy', 'healthy',\n",
              "       'healthy', 'healthy', 'healthy', 'healthy', 'healthy', 'healthy',\n",
              "       'healthy', 'healthy', 'healthy', 'healthy', 'healthy', 'healthy',\n",
              "       'healthy', 'healthy', 'healthy', 'healthy', 'healthy', 'healthy',\n",
              "       'healthy', 'healthy', 'healthy', 'healthy', 'healthy', 'healthy',\n",
              "       'parkinson', 'parkinson', 'parkinson', 'parkinson', 'parkinson',\n",
              "       'parkinson', 'parkinson', 'parkinson', 'parkinson', 'parkinson',\n",
              "       'parkinson', 'parkinson', 'parkinson', 'parkinson', 'parkinson',\n",
              "       'parkinson', 'parkinson', 'parkinson', 'parkinson', 'parkinson',\n",
              "       'parkinson', 'parkinson', 'parkinson', 'parkinson', 'parkinson',\n",
              "       'parkinson', 'parkinson', 'parkinson', 'parkinson', 'parkinson',\n",
              "       'parkinson', 'parkinson', 'parkinson', 'parkinson', 'parkinson',\n",
              "       'parkinson'], dtype='<U9')"
            ]
          },
          "metadata": {},
          "execution_count": 14
        }
      ],
      "source": [
        "trainY"
      ]
    },
    {
      "cell_type": "code",
      "source": [
        "trainY_wave"
      ],
      "metadata": {
        "colab": {
          "base_uri": "https://localhost:8080/"
        },
        "id": "VazGXKy8yVJO",
        "outputId": "20366046-1854-4b6d-8b08-129445a296c0"
      },
      "id": "VazGXKy8yVJO",
      "execution_count": 15,
      "outputs": [
        {
          "output_type": "execute_result",
          "data": {
            "text/plain": [
              "array(['healthy', 'healthy', 'healthy', 'healthy', 'healthy', 'healthy',\n",
              "       'healthy', 'healthy', 'healthy', 'healthy', 'healthy', 'healthy',\n",
              "       'healthy', 'healthy', 'healthy', 'healthy', 'healthy', 'healthy',\n",
              "       'healthy', 'healthy', 'healthy', 'healthy', 'healthy', 'healthy',\n",
              "       'healthy', 'healthy', 'healthy', 'healthy', 'healthy', 'healthy',\n",
              "       'healthy', 'healthy', 'healthy', 'healthy', 'healthy', 'healthy',\n",
              "       'parkinson', 'parkinson', 'parkinson', 'parkinson', 'parkinson',\n",
              "       'parkinson', 'parkinson', 'parkinson', 'parkinson', 'parkinson',\n",
              "       'parkinson', 'parkinson', 'parkinson', 'parkinson', 'parkinson',\n",
              "       'parkinson', 'parkinson', 'parkinson', 'parkinson', 'parkinson',\n",
              "       'parkinson', 'parkinson', 'parkinson', 'parkinson', 'parkinson',\n",
              "       'parkinson', 'parkinson', 'parkinson', 'parkinson', 'parkinson',\n",
              "       'parkinson', 'parkinson', 'parkinson', 'parkinson', 'parkinson',\n",
              "       'parkinson'], dtype='<U9')"
            ]
          },
          "metadata": {},
          "execution_count": 15
        }
      ]
    },
    {
      "cell_type": "code",
      "execution_count": 16,
      "id": "b8798c54",
      "metadata": {
        "colab": {
          "base_uri": "https://localhost:8080/"
        },
        "id": "b8798c54",
        "outputId": "9c86842a-55bf-4098-abd1-2de3cd69ba48"
      },
      "outputs": [
        {
          "output_type": "execute_result",
          "data": {
            "text/plain": [
              "array([[0., 0., 0., ..., 0., 0., 0.],\n",
              "       [0., 0., 0., ..., 0., 0., 0.],\n",
              "       [0., 0., 0., ..., 0., 0., 0.],\n",
              "       ...,\n",
              "       [0., 0., 0., ..., 0., 0., 0.],\n",
              "       [0., 0., 0., ..., 0., 0., 0.],\n",
              "       [0., 0., 0., ..., 0., 0., 0.]])"
            ]
          },
          "metadata": {},
          "execution_count": 16
        }
      ],
      "source": [
        "testX"
      ]
    },
    {
      "cell_type": "code",
      "source": [
        "testX_wave"
      ],
      "metadata": {
        "colab": {
          "base_uri": "https://localhost:8080/"
        },
        "id": "Z6QyxgKayX3H",
        "outputId": "dfe31c84-528e-404b-c778-1d8ce6f0dc2c"
      },
      "id": "Z6QyxgKayX3H",
      "execution_count": 17,
      "outputs": [
        {
          "output_type": "execute_result",
          "data": {
            "text/plain": [
              "array([[0.01075467, 0.        , 0.01520941, ..., 0.        , 0.        ,\n",
              "        0.        ],\n",
              "       [0.        , 0.        , 0.        , ..., 0.        , 0.        ,\n",
              "        0.        ],\n",
              "       [0.        , 0.        , 0.        , ..., 0.        , 0.        ,\n",
              "        0.        ],\n",
              "       ...,\n",
              "       [0.        , 0.        , 0.        , ..., 0.        , 0.        ,\n",
              "        0.        ],\n",
              "       [0.        , 0.        , 0.        , ..., 0.        , 0.        ,\n",
              "        0.        ],\n",
              "       [0.        , 0.        , 0.        , ..., 0.        , 0.        ,\n",
              "        0.        ]])"
            ]
          },
          "metadata": {},
          "execution_count": 17
        }
      ]
    },
    {
      "cell_type": "code",
      "execution_count": 18,
      "id": "b170ff9f",
      "metadata": {
        "colab": {
          "base_uri": "https://localhost:8080/"
        },
        "id": "b170ff9f",
        "outputId": "a05c6cad-2d27-47f6-adad-397cc3ca7933"
      },
      "outputs": [
        {
          "output_type": "execute_result",
          "data": {
            "text/plain": [
              "array(['healthy', 'healthy', 'healthy', 'healthy', 'healthy', 'healthy',\n",
              "       'healthy', 'healthy', 'healthy', 'healthy', 'healthy', 'healthy',\n",
              "       'healthy', 'healthy', 'healthy', 'parkinson', 'parkinson',\n",
              "       'parkinson', 'parkinson', 'parkinson', 'parkinson', 'parkinson',\n",
              "       'parkinson', 'parkinson', 'parkinson', 'parkinson', 'parkinson',\n",
              "       'parkinson', 'parkinson', 'parkinson'], dtype='<U9')"
            ]
          },
          "metadata": {},
          "execution_count": 18
        }
      ],
      "source": [
        "testY"
      ]
    },
    {
      "cell_type": "code",
      "source": [
        "testY_wave"
      ],
      "metadata": {
        "colab": {
          "base_uri": "https://localhost:8080/"
        },
        "id": "TJzAUK36yZpd",
        "outputId": "fe4f1f38-0702-45ee-c159-2d0cbe8cd4c1"
      },
      "id": "TJzAUK36yZpd",
      "execution_count": 19,
      "outputs": [
        {
          "output_type": "execute_result",
          "data": {
            "text/plain": [
              "array(['healthy', 'healthy', 'healthy', 'healthy', 'healthy', 'healthy',\n",
              "       'healthy', 'healthy', 'healthy', 'healthy', 'healthy', 'healthy',\n",
              "       'healthy', 'healthy', 'healthy', 'parkinson', 'parkinson',\n",
              "       'parkinson', 'parkinson', 'parkinson', 'parkinson', 'parkinson',\n",
              "       'parkinson', 'parkinson', 'parkinson', 'parkinson', 'parkinson',\n",
              "       'parkinson', 'parkinson', 'parkinson'], dtype='<U9')"
            ]
          },
          "metadata": {},
          "execution_count": 19
        }
      ]
    },
    {
      "cell_type": "markdown",
      "id": "e2MzyvLCjf8u",
      "metadata": {
        "id": "e2MzyvLCjf8u"
      },
      "source": [
        "> ## Label Encoding"
      ]
    },
    {
      "cell_type": "code",
      "execution_count": 20,
      "id": "97d5dc20",
      "metadata": {
        "colab": {
          "base_uri": "https://localhost:8080/"
        },
        "id": "97d5dc20",
        "outputId": "1e3c7a7c-629b-4b85-fbcc-f7885d6d12bb"
      },
      "outputs": [
        {
          "output_type": "stream",
          "name": "stdout",
          "text": [
            "(72, 12996) (72,)\n"
          ]
        }
      ],
      "source": [
        "le = LabelEncoder()\n",
        "trainY = le.fit_transform(trainY)\n",
        "testY = le.transform(testY)\n",
        "print(trainX.shape,trainY.shape)"
      ]
    },
    {
      "cell_type": "code",
      "source": [
        "trainY"
      ],
      "metadata": {
        "colab": {
          "base_uri": "https://localhost:8080/"
        },
        "id": "txK_y9XtystA",
        "outputId": "9f2e5a82-a10c-4b51-c3e1-f6398872051c"
      },
      "id": "txK_y9XtystA",
      "execution_count": 21,
      "outputs": [
        {
          "output_type": "execute_result",
          "data": {
            "text/plain": [
              "array([0, 0, 0, 0, 0, 0, 0, 0, 0, 0, 0, 0, 0, 0, 0, 0, 0, 0, 0, 0, 0, 0,\n",
              "       0, 0, 0, 0, 0, 0, 0, 0, 0, 0, 0, 0, 0, 0, 1, 1, 1, 1, 1, 1, 1, 1,\n",
              "       1, 1, 1, 1, 1, 1, 1, 1, 1, 1, 1, 1, 1, 1, 1, 1, 1, 1, 1, 1, 1, 1,\n",
              "       1, 1, 1, 1, 1, 1])"
            ]
          },
          "metadata": {},
          "execution_count": 21
        }
      ]
    },
    {
      "cell_type": "code",
      "source": [
        "testY"
      ],
      "metadata": {
        "colab": {
          "base_uri": "https://localhost:8080/"
        },
        "id": "jSy-E6DOyuO5",
        "outputId": "e7b7e701-0a71-4db6-efff-84605cb35617"
      },
      "id": "jSy-E6DOyuO5",
      "execution_count": 22,
      "outputs": [
        {
          "output_type": "execute_result",
          "data": {
            "text/plain": [
              "array([0, 0, 0, 0, 0, 0, 0, 0, 0, 0, 0, 0, 0, 0, 0, 1, 1, 1, 1, 1, 1, 1,\n",
              "       1, 1, 1, 1, 1, 1, 1, 1])"
            ]
          },
          "metadata": {},
          "execution_count": 22
        }
      ]
    },
    {
      "cell_type": "code",
      "source": [
        "le = LabelEncoder()\n",
        "trainY_wave = le.fit_transform(trainY_wave)\n",
        "testY_wave = le.transform(testY_wave)\n",
        "print(trainX_wave.shape,trainY_wave.shape)"
      ],
      "metadata": {
        "colab": {
          "base_uri": "https://localhost:8080/"
        },
        "id": "qLQHTHzbyeYx",
        "outputId": "7fb3db8c-2498-4195-f551-be7bec282c62"
      },
      "id": "qLQHTHzbyeYx",
      "execution_count": 23,
      "outputs": [
        {
          "output_type": "stream",
          "name": "stdout",
          "text": [
            "(72, 12996) (72,)\n"
          ]
        }
      ]
    },
    {
      "cell_type": "code",
      "execution_count": 24,
      "id": "6818b779",
      "metadata": {
        "colab": {
          "base_uri": "https://localhost:8080/"
        },
        "id": "6818b779",
        "outputId": "ff7ee477-73e2-4498-f27f-065a310df3df"
      },
      "outputs": [
        {
          "output_type": "execute_result",
          "data": {
            "text/plain": [
              "array([0, 0, 0, 0, 0, 0, 0, 0, 0, 0, 0, 0, 0, 0, 0, 0, 0, 0, 0, 0, 0, 0,\n",
              "       0, 0, 0, 0, 0, 0, 0, 0, 0, 0, 0, 0, 0, 0, 1, 1, 1, 1, 1, 1, 1, 1,\n",
              "       1, 1, 1, 1, 1, 1, 1, 1, 1, 1, 1, 1, 1, 1, 1, 1, 1, 1, 1, 1, 1, 1,\n",
              "       1, 1, 1, 1, 1, 1])"
            ]
          },
          "metadata": {},
          "execution_count": 24
        }
      ],
      "source": [
        "trainY_wave"
      ]
    },
    {
      "cell_type": "code",
      "execution_count": 25,
      "id": "bbd9768b",
      "metadata": {
        "colab": {
          "base_uri": "https://localhost:8080/"
        },
        "id": "bbd9768b",
        "outputId": "6ccf4c44-fe5c-4a05-f65e-42b472db2d2f"
      },
      "outputs": [
        {
          "output_type": "execute_result",
          "data": {
            "text/plain": [
              "array([0, 0, 0, 0, 0, 0, 0, 0, 0, 0, 0, 0, 0, 0, 0, 1, 1, 1, 1, 1, 1, 1,\n",
              "       1, 1, 1, 1, 1, 1, 1, 1])"
            ]
          },
          "metadata": {},
          "execution_count": 25
        }
      ],
      "source": [
        "testY_wave"
      ]
    }
  ],
  "metadata": {
    "colab": {
      "provenance": []
    },
    "kernelspec": {
      "display_name": "Python 3.9.5 64-bit",
      "language": "python",
      "name": "python3"
    },
    "language_info": {
      "codemirror_mode": {
        "name": "ipython",
        "version": 3
      },
      "file_extension": ".py",
      "mimetype": "text/x-python",
      "name": "python",
      "nbconvert_exporter": "python",
      "pygments_lexer": "ipython3",
      "version": "3.9.5"
    },
    "vscode": {
      "interpreter": {
        "hash": "ef742790665f9537ebfc2b343e1d9ba8392f1061a99d7af0ccdf091d880fcb5a"
      }
    }
  },
  "nbformat": 4,
  "nbformat_minor": 5
}